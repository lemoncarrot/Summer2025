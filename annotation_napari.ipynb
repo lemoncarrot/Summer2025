{
 "cells": [
  {
   "cell_type": "code",
   "execution_count": 1,
   "metadata": {},
   "outputs": [
    {
     "name": "stderr",
     "output_type": "stream",
     "text": [
      "/opt/miniconda3/envs/Summer2025/lib/python3.12/site-packages/dask/dataframe/__init__.py:31: FutureWarning: The legacy Dask DataFrame implementation is deprecated and will be removed in a future version. Set the configuration option `dataframe.query-planning` to `True` or None to enable the new Dask Dataframe implementation and silence this warning.\n",
      "  warnings.warn(\n"
     ]
    }
   ],
   "source": [
    "import numpy as np\n",
    "import pandas as pd\n",
    "import spatialdata as sd\n",
    "from geopandas import GeoDataFrame\n",
    "from shapely import Polygon\n",
    "from spatialdata.models import ShapesModel\n",
    "from spatialdata.transformations import Identity\n",
    "\n",
    "import spatialdata_plot  # noqa: F401\n",
    "\n",
    "# from napari_spatialdata import Interactive"
   ]
  },
  {
   "cell_type": "code",
   "execution_count": 2,
   "metadata": {},
   "outputs": [
    {
     "name": "stderr",
     "output_type": "stream",
     "text": [
      "/opt/miniconda3/envs/Summer2025/lib/python3.12/site-packages/zarr/creation.py:610: UserWarning: ignoring keyword argument 'read_only'\n",
      "  compressor, fill_value = _kwargs_compat(compressor, fill_value, kwargs)\n",
      "/opt/miniconda3/envs/Summer2025/lib/python3.12/site-packages/zarr/creation.py:610: UserWarning: ignoring keyword argument 'read_only'\n",
      "  compressor, fill_value = _kwargs_compat(compressor, fill_value, kwargs)\n",
      "/opt/miniconda3/envs/Summer2025/lib/python3.12/site-packages/zarr/creation.py:610: UserWarning: ignoring keyword argument 'read_only'\n",
      "  compressor, fill_value = _kwargs_compat(compressor, fill_value, kwargs)\n",
      "/opt/miniconda3/envs/Summer2025/lib/python3.12/site-packages/zarr/creation.py:610: UserWarning: ignoring keyword argument 'read_only'\n",
      "  compressor, fill_value = _kwargs_compat(compressor, fill_value, kwargs)\n",
      "/opt/miniconda3/envs/Summer2025/lib/python3.12/site-packages/zarr/creation.py:610: UserWarning: ignoring keyword argument 'read_only'\n",
      "  compressor, fill_value = _kwargs_compat(compressor, fill_value, kwargs)\n",
      "/opt/miniconda3/envs/Summer2025/lib/python3.12/site-packages/zarr/creation.py:610: UserWarning: ignoring keyword argument 'read_only'\n",
      "  compressor, fill_value = _kwargs_compat(compressor, fill_value, kwargs)\n",
      "/opt/miniconda3/envs/Summer2025/lib/python3.12/site-packages/zarr/creation.py:610: UserWarning: ignoring keyword argument 'read_only'\n",
      "  compressor, fill_value = _kwargs_compat(compressor, fill_value, kwargs)\n"
     ]
    },
    {
     "data": {
      "text/plain": [
       "SpatialData object, with associated Zarr store: /Users/kevin/Documents/Summer2025/visium_aligned.zarr\n",
       "├── Images\n",
       "│     ├── 'CytAssist_FFPE_Human_Breast_Cancer_full_image': DataTree[cyx] (3, 21571, 19505), (3, 10785, 9752), (3, 5392, 4876), (3, 2696, 2438), (3, 1348, 1219)\n",
       "│     ├── 'CytAssist_FFPE_Human_Breast_Cancer_hires_image': DataArray[cyx] (3, 2000, 1809)\n",
       "│     └── 'CytAssist_FFPE_Human_Breast_Cancer_lowres_image': DataArray[cyx] (3, 600, 543)\n",
       "├── Shapes\n",
       "│     ├── 'CytAssist_FFPE_Human_Breast_Cancer': GeoDataFrame shape: (4992, 2) (2D shapes)\n",
       "│     └── 'visium_landmarks': GeoDataFrame shape: (3, 2) (2D shapes)\n",
       "└── Tables\n",
       "      └── 'table': AnnData (4992, 18085)\n",
       "with coordinate systems:\n",
       "    ▸ 'aligned', with elements:\n",
       "        CytAssist_FFPE_Human_Breast_Cancer_full_image (Images), CytAssist_FFPE_Human_Breast_Cancer_hires_image (Images), CytAssist_FFPE_Human_Breast_Cancer_lowres_image (Images), CytAssist_FFPE_Human_Breast_Cancer (Shapes), visium_landmarks (Shapes)\n",
       "    ▸ 'downscaled_hires', with elements:\n",
       "        CytAssist_FFPE_Human_Breast_Cancer_hires_image (Images), CytAssist_FFPE_Human_Breast_Cancer (Shapes)\n",
       "    ▸ 'downscaled_lowres', with elements:\n",
       "        CytAssist_FFPE_Human_Breast_Cancer_lowres_image (Images), CytAssist_FFPE_Human_Breast_Cancer (Shapes)\n",
       "    ▸ 'global', with elements:\n",
       "        CytAssist_FFPE_Human_Breast_Cancer_full_image (Images), CytAssist_FFPE_Human_Breast_Cancer_hires_image (Images), CytAssist_FFPE_Human_Breast_Cancer_lowres_image (Images), CytAssist_FFPE_Human_Breast_Cancer (Shapes), visium_landmarks (Shapes)"
      ]
     },
     "execution_count": 2,
     "metadata": {},
     "output_type": "execute_result"
    }
   ],
   "source": [
    "visium_sdata = sd.read_zarr(\"visium_aligned.zarr\")\n",
    "visium_sdata"
   ]
  },
  {
   "cell_type": "code",
   "execution_count": null,
   "metadata": {},
   "outputs": [
    {
     "data": {
      "text/plain": [
       "<napari_spatialdata._interactive.Interactive at 0x352b0ca40>"
      ]
     },
     "execution_count": 3,
     "metadata": {},
     "output_type": "execute_result"
    },
    {
     "name": "stderr",
     "output_type": "stream",
     "text": [
      "\u001b[32m2025-06-13 01:54:39.926\u001b[0m | \u001b[34m\u001b[1mDEBUG   \u001b[0m | \u001b[36mnapari_spatialdata._view\u001b[0m:\u001b[36m_on_layer_update\u001b[0m:\u001b[36m569\u001b[0m - \u001b[34m\u001b[1mUpdating layer.\u001b[0m\n",
      "\u001b[32m2025-06-13 01:54:40.019\u001b[0m | \u001b[34m\u001b[1mDEBUG   \u001b[0m | \u001b[36mnapari_spatialdata._view\u001b[0m:\u001b[36m_on_layer_update\u001b[0m:\u001b[36m569\u001b[0m - \u001b[34m\u001b[1mUpdating layer.\u001b[0m\n",
      "/opt/miniconda3/envs/Summer2025/lib/python3.12/site-packages/multiscale_spatial_image/operations/operations.py:18: FutureWarning: Passing 'method, tolerance, copy, fill_value' as positional argument(s) to reindex was deprecated in version v2023.10.0 and will raise an error two releases later. Please pass them as keyword arguments.\n",
      "  return ds[\"image\"].reindex(*args, **kwargs).to_dataset()\n",
      "/opt/miniconda3/envs/Summer2025/lib/python3.12/site-packages/multiscale_spatial_image/operations/operations.py:18: FutureWarning: Passing 'method, tolerance, copy, fill_value' as positional argument(s) to reindex was deprecated in version v2023.10.0 and will raise an error two releases later. Please pass them as keyword arguments.\n",
      "  return ds[\"image\"].reindex(*args, **kwargs).to_dataset()\n",
      "/opt/miniconda3/envs/Summer2025/lib/python3.12/site-packages/multiscale_spatial_image/operations/operations.py:18: FutureWarning: Passing 'method, tolerance, copy, fill_value' as positional argument(s) to reindex was deprecated in version v2023.10.0 and will raise an error two releases later. Please pass them as keyword arguments.\n",
      "  return ds[\"image\"].reindex(*args, **kwargs).to_dataset()\n",
      "/opt/miniconda3/envs/Summer2025/lib/python3.12/site-packages/multiscale_spatial_image/operations/operations.py:18: FutureWarning: Passing 'method, tolerance, copy, fill_value' as positional argument(s) to reindex was deprecated in version v2023.10.0 and will raise an error two releases later. Please pass them as keyword arguments.\n",
      "  return ds[\"image\"].reindex(*args, **kwargs).to_dataset()\n",
      "/opt/miniconda3/envs/Summer2025/lib/python3.12/site-packages/multiscale_spatial_image/operations/operations.py:18: FutureWarning: Passing 'method, tolerance, copy, fill_value' as positional argument(s) to reindex was deprecated in version v2023.10.0 and will raise an error two releases later. Please pass them as keyword arguments.\n",
      "  return ds[\"image\"].reindex(*args, **kwargs).to_dataset()\n",
      "\u001b[32m2025-06-13 01:54:49.206\u001b[0m | \u001b[34m\u001b[1mDEBUG   \u001b[0m | \u001b[36mnapari_spatialdata._view\u001b[0m:\u001b[36m_on_layer_update\u001b[0m:\u001b[36m569\u001b[0m - \u001b[34m\u001b[1mUpdating layer.\u001b[0m\n",
      "\u001b[32m2025-06-13 01:54:49.209\u001b[0m | \u001b[34m\u001b[1mDEBUG   \u001b[0m | \u001b[36mnapari_spatialdata._view\u001b[0m:\u001b[36m_on_layer_update\u001b[0m:\u001b[36m569\u001b[0m - \u001b[34m\u001b[1mUpdating layer.\u001b[0m\n",
      "\u001b[32m2025-06-13 01:54:49.209\u001b[0m | \u001b[34m\u001b[1mDEBUG   \u001b[0m | \u001b[36mnapari_spatialdata._view\u001b[0m:\u001b[36m_on_layer_update\u001b[0m:\u001b[36m569\u001b[0m - \u001b[34m\u001b[1mUpdating layer.\u001b[0m\n",
      "\u001b[32m2025-06-13 01:55:18.097\u001b[0m | \u001b[34m\u001b[1mDEBUG   \u001b[0m | \u001b[36mnapari_spatialdata._view\u001b[0m:\u001b[36m_on_layer_update\u001b[0m:\u001b[36m569\u001b[0m - \u001b[34m\u001b[1mUpdating layer.\u001b[0m\n",
      "\u001b[32m2025-06-13 01:55:18.099\u001b[0m | \u001b[34m\u001b[1mDEBUG   \u001b[0m | \u001b[36mnapari_spatialdata._view\u001b[0m:\u001b[36m_on_layer_update\u001b[0m:\u001b[36m569\u001b[0m - \u001b[34m\u001b[1mUpdating layer.\u001b[0m\n",
      "\u001b[32m2025-06-13 01:55:18.099\u001b[0m | \u001b[34m\u001b[1mDEBUG   \u001b[0m | \u001b[36mnapari_spatialdata._view\u001b[0m:\u001b[36m_on_layer_update\u001b[0m:\u001b[36m569\u001b[0m - \u001b[34m\u001b[1mUpdating layer.\u001b[0m\n",
      "\u001b[32m2025-06-13 01:55:24.135\u001b[0m | \u001b[34m\u001b[1mDEBUG   \u001b[0m | \u001b[36mnapari_spatialdata._view\u001b[0m:\u001b[36m_on_layer_update\u001b[0m:\u001b[36m569\u001b[0m - \u001b[34m\u001b[1mUpdating layer.\u001b[0m\n",
      "\u001b[32m2025-06-13 01:55:24.137\u001b[0m | \u001b[34m\u001b[1mDEBUG   \u001b[0m | \u001b[36mnapari_spatialdata._view\u001b[0m:\u001b[36m_on_layer_update\u001b[0m:\u001b[36m569\u001b[0m - \u001b[34m\u001b[1mUpdating layer.\u001b[0m\n",
      "\u001b[32m2025-06-13 01:55:24.137\u001b[0m | \u001b[34m\u001b[1mDEBUG   \u001b[0m | \u001b[36mnapari_spatialdata._view\u001b[0m:\u001b[36m_on_layer_update\u001b[0m:\u001b[36m569\u001b[0m - \u001b[34m\u001b[1mUpdating layer.\u001b[0m\n",
      "\u001b[32m2025-06-13 01:56:16.020\u001b[0m | \u001b[34m\u001b[1mDEBUG   \u001b[0m | \u001b[36mnapari_spatialdata._view\u001b[0m:\u001b[36m_on_layer_update\u001b[0m:\u001b[36m569\u001b[0m - \u001b[34m\u001b[1mUpdating layer.\u001b[0m\n",
      "\u001b[32m2025-06-13 01:56:16.022\u001b[0m | \u001b[34m\u001b[1mDEBUG   \u001b[0m | \u001b[36mnapari_spatialdata._view\u001b[0m:\u001b[36m_on_layer_update\u001b[0m:\u001b[36m569\u001b[0m - \u001b[34m\u001b[1mUpdating layer.\u001b[0m\n",
      "\u001b[32m2025-06-13 01:57:59.059\u001b[0m | \u001b[34m\u001b[1mDEBUG   \u001b[0m | \u001b[36mnapari_spatialdata._view\u001b[0m:\u001b[36m_on_layer_update\u001b[0m:\u001b[36m569\u001b[0m - \u001b[34m\u001b[1mUpdating layer.\u001b[0m\n",
      "\u001b[32m2025-06-13 01:57:59.062\u001b[0m | \u001b[34m\u001b[1mDEBUG   \u001b[0m | \u001b[36mnapari_spatialdata._view\u001b[0m:\u001b[36m_on_layer_update\u001b[0m:\u001b[36m569\u001b[0m - \u001b[34m\u001b[1mUpdating layer.\u001b[0m\n",
      "/opt/miniconda3/envs/Summer2025/lib/python3.12/site-packages/napari/_vispy/layers/scalar_field.py:198: UserWarning: data shape (21571, 19505) exceeds GL_MAX_TEXTURE_SIZE 16384 in at least one axis and will be downsampled. Rendering is currently in 2D mode.\n",
      "  warnings.warn(\n",
      "\u001b[32m2025-06-13 01:58:13.085\u001b[0m | \u001b[34m\u001b[1mDEBUG   \u001b[0m | \u001b[36mnapari_spatialdata._view\u001b[0m:\u001b[36m_on_layer_update\u001b[0m:\u001b[36m569\u001b[0m - \u001b[34m\u001b[1mUpdating layer.\u001b[0m\n",
      "\u001b[32m2025-06-13 01:58:13.088\u001b[0m | \u001b[34m\u001b[1mDEBUG   \u001b[0m | \u001b[36mnapari_spatialdata._view\u001b[0m:\u001b[36m_on_layer_update\u001b[0m:\u001b[36m569\u001b[0m - \u001b[34m\u001b[1mUpdating layer.\u001b[0m\n"
     ]
    },
    {
     "name": "stdout",
     "output_type": "stream",
     "text": [
      "INFO: Layer(s) inherited info from CytAssist_FFPE_Human_Breast_Cancer\n"
     ]
    },
    {
     "name": "stderr",
     "output_type": "stream",
     "text": [
      "Traceback (most recent call last):\n",
      "  File \"/opt/miniconda3/envs/Summer2025/lib/python3.12/site-packages/napari/_qt/qt_main_window.py\", line 521, in keyPressEvent\n",
      "    self._qt_viewer.canvas._scene_canvas._backend._keyEvent(\n",
      "  File \"/opt/miniconda3/envs/Summer2025/lib/python3.12/site-packages/vispy/app/backends/_qt.py\", line 647, in _keyEvent\n",
      "    func(native=ev, key=key, text=str(ev.text()), modifiers=mod)\n",
      "  File \"/opt/miniconda3/envs/Summer2025/lib/python3.12/site-packages/vispy/util/event.py\", line 453, in __call__\n",
      "    self._invoke_callback(cb, event)\n",
      "  File \"/opt/miniconda3/envs/Summer2025/lib/python3.12/site-packages/vispy/util/event.py\", line 471, in _invoke_callback\n",
      "    _handle_exception(self.ignore_callback_errors,\n",
      "  File \"/opt/miniconda3/envs/Summer2025/lib/python3.12/site-packages/vispy/util/event.py\", line 469, in _invoke_callback\n",
      "    cb(event)\n",
      "  File \"/opt/miniconda3/envs/Summer2025/lib/python3.12/site-packages/napari/utils/key_bindings.py\", line 515, in on_key_press\n",
      "    self.press_key(kb)\n",
      "  File \"/opt/miniconda3/envs/Summer2025/lib/python3.12/site-packages/napari/utils/key_bindings.py\", line 437, in press_key\n",
      "    generator_or_callback = func()\n",
      "                            ^^^^^^\n",
      "  File \"/opt/miniconda3/envs/Summer2025/lib/python3.12/site-packages/napari_spatialdata/_viewer.py\", line 143, in _save_to_sdata\n",
      "    self.save_to_sdata(layer_selection)\n",
      "  File \"/opt/miniconda3/envs/Summer2025/lib/python3.12/site-packages/napari_spatialdata/_viewer.py\", line 328, in save_to_sdata\n",
      "    raise NotImplementedError\n",
      "NotImplementedError\n",
      "Traceback (most recent call last):\n",
      "  File \"/opt/miniconda3/envs/Summer2025/lib/python3.12/site-packages/napari/_qt/qt_main_window.py\", line 521, in keyPressEvent\n",
      "    self._qt_viewer.canvas._scene_canvas._backend._keyEvent(\n",
      "  File \"/opt/miniconda3/envs/Summer2025/lib/python3.12/site-packages/vispy/app/backends/_qt.py\", line 647, in _keyEvent\n",
      "    func(native=ev, key=key, text=str(ev.text()), modifiers=mod)\n",
      "  File \"/opt/miniconda3/envs/Summer2025/lib/python3.12/site-packages/vispy/util/event.py\", line 453, in __call__\n",
      "    self._invoke_callback(cb, event)\n",
      "  File \"/opt/miniconda3/envs/Summer2025/lib/python3.12/site-packages/vispy/util/event.py\", line 471, in _invoke_callback\n",
      "    _handle_exception(self.ignore_callback_errors,\n",
      "  File \"/opt/miniconda3/envs/Summer2025/lib/python3.12/site-packages/vispy/util/event.py\", line 469, in _invoke_callback\n",
      "    cb(event)\n",
      "  File \"/opt/miniconda3/envs/Summer2025/lib/python3.12/site-packages/napari/utils/key_bindings.py\", line 515, in on_key_press\n",
      "    self.press_key(kb)\n",
      "  File \"/opt/miniconda3/envs/Summer2025/lib/python3.12/site-packages/napari/utils/key_bindings.py\", line 437, in press_key\n",
      "    generator_or_callback = func()\n",
      "                            ^^^^^^\n",
      "  File \"/opt/miniconda3/envs/Summer2025/lib/python3.12/site-packages/napari_spatialdata/_viewer.py\", line 143, in _save_to_sdata\n",
      "    self.save_to_sdata(layer_selection)\n",
      "  File \"/opt/miniconda3/envs/Summer2025/lib/python3.12/site-packages/napari_spatialdata/_viewer.py\", line 328, in save_to_sdata\n",
      "    raise NotImplementedError\n",
      "NotImplementedError\n",
      "\u001b[32m2025-06-13 01:58:32.238\u001b[0m | \u001b[34m\u001b[1mDEBUG   \u001b[0m | \u001b[36mnapari_spatialdata._view\u001b[0m:\u001b[36m_on_layer_update\u001b[0m:\u001b[36m569\u001b[0m - \u001b[34m\u001b[1mUpdating layer.\u001b[0m\n",
      "\u001b[32m2025-06-13 01:58:32.244\u001b[0m | \u001b[34m\u001b[1mDEBUG   \u001b[0m | \u001b[36mnapari_spatialdata._view\u001b[0m:\u001b[36m_on_layer_update\u001b[0m:\u001b[36m569\u001b[0m - \u001b[34m\u001b[1mUpdating layer.\u001b[0m\n",
      "\u001b[32m2025-06-13 01:58:42.210\u001b[0m | \u001b[33m\u001b[1mWARNING \u001b[0m | \u001b[36mnapari_spatialdata._viewer\u001b[0m:\u001b[36m_write_element_to_disk\u001b[0m:\u001b[36m172\u001b[0m - \u001b[33m\u001b[1mAnnotations only added in memory, please manually save to disk.\u001b[0m\n"
     ]
    },
    {
     "name": "stdout",
     "output_type": "stream",
     "text": [
      "INFO: Layer(s) inherited info from CytAssist_FFPE_Human_Breast_Cancer\n",
      "INFO: Layer saved\n"
     ]
    }
   ],
   "source": [
    "from napari_spatialdata import Interactive\n",
    "\n",
    "Interactive(visium_sdata)"
   ]
  },
  {
   "cell_type": "code",
   "execution_count": 4,
   "metadata": {},
   "outputs": [
    {
     "data": {
      "text/plain": [
       "SpatialData object, with associated Zarr store: /Users/kevin/Documents/Summer2025/visium_aligned.zarr\n",
       "├── Images\n",
       "│     ├── 'CytAssist_FFPE_Human_Breast_Cancer_full_image': DataTree[cyx] (3, 21571, 19505), (3, 10785, 9752), (3, 5392, 4876), (3, 2696, 2438), (3, 1348, 1219)\n",
       "│     ├── 'CytAssist_FFPE_Human_Breast_Cancer_hires_image': DataArray[cyx] (3, 2000, 1809)\n",
       "│     └── 'CytAssist_FFPE_Human_Breast_Cancer_lowres_image': DataArray[cyx] (3, 600, 543)\n",
       "├── Shapes\n",
       "│     ├── 'CytAssist_FFPE_Human_Breast_Cancer': GeoDataFrame shape: (4992, 2) (2D shapes)\n",
       "│     ├── 'Shapes': GeoDataFrame shape: (4, 1) (2D shapes)\n",
       "│     └── 'visium_landmarks': GeoDataFrame shape: (3, 2) (2D shapes)\n",
       "└── Tables\n",
       "      └── 'table': AnnData (4992, 18085)\n",
       "with coordinate systems:\n",
       "    ▸ 'aligned', with elements:\n",
       "        CytAssist_FFPE_Human_Breast_Cancer_full_image (Images), CytAssist_FFPE_Human_Breast_Cancer_hires_image (Images), CytAssist_FFPE_Human_Breast_Cancer_lowres_image (Images), CytAssist_FFPE_Human_Breast_Cancer (Shapes), visium_landmarks (Shapes)\n",
       "    ▸ 'downscaled_hires', with elements:\n",
       "        CytAssist_FFPE_Human_Breast_Cancer_hires_image (Images), CytAssist_FFPE_Human_Breast_Cancer (Shapes)\n",
       "    ▸ 'downscaled_lowres', with elements:\n",
       "        CytAssist_FFPE_Human_Breast_Cancer_lowres_image (Images), CytAssist_FFPE_Human_Breast_Cancer (Shapes)\n",
       "    ▸ 'global', with elements:\n",
       "        CytAssist_FFPE_Human_Breast_Cancer_full_image (Images), CytAssist_FFPE_Human_Breast_Cancer_hires_image (Images), CytAssist_FFPE_Human_Breast_Cancer_lowres_image (Images), CytAssist_FFPE_Human_Breast_Cancer (Shapes), Shapes (Shapes), visium_landmarks (Shapes)\n",
       "with the following elements not in the Zarr store:\n",
       "    ▸ Shapes (Shapes)"
      ]
     },
     "execution_count": 4,
     "metadata": {},
     "output_type": "execute_result"
    }
   ],
   "source": [
    "visium_sdata"
   ]
  },
  {
   "cell_type": "code",
   "execution_count": 8,
   "metadata": {},
   "outputs": [
    {
     "data": {
      "text/plain": [
       "AnnData object with n_obs × n_vars = 26 × 3\n",
       "    obs: 'instance_id', 'region'\n",
       "    uns: 'spatialdata_attrs'"
      ]
     },
     "execution_count": 8,
     "metadata": {},
     "output_type": "execute_result"
    }
   ],
   "source": [
    "sdata[\"table\"]"
   ]
  },
  {
   "cell_type": "code",
   "execution_count": 10,
   "metadata": {},
   "outputs": [
    {
     "name": "stdout",
     "output_type": "stream",
     "text": [
      "Index([ 1,  2,  3,  4,  5,  6,  8,  9, 10, 11, 12, 13, 15, 16, 17, 18, 19, 20,\n",
      "       22, 23, 24, 25, 26, 27, 29, 30],\n",
      "      dtype='int16')\n",
      "[ 0  1  2  3  4  5  6  8  9 10 11 12 13 15 16 17 18 19 20 22 23 24 25 26\n",
      " 27 29 30]\n"
     ]
    }
   ],
   "source": [
    "import numpy as np \n",
    "from spatialdata import get_element_instances\n",
    "print(get_element_instances(sdata[\"blobs_multiscale_labels\"]))\n",
    "print(np.unique(sdata[\"blobs_multiscale_labels\"][\"scale0\"][\"image\"].data.compute()))"
   ]
  },
  {
   "cell_type": "code",
   "execution_count": 11,
   "metadata": {},
   "outputs": [
    {
     "data": {
      "text/plain": [
       "RangeIndex(start=0, stop=2, step=1)"
      ]
     },
     "execution_count": 11,
     "metadata": {},
     "output_type": "execute_result"
    }
   ],
   "source": [
    "sdata[\"blobs_multipolygons\"].index"
   ]
  },
  {
   "cell_type": "code",
   "execution_count": 12,
   "metadata": {},
   "outputs": [
    {
     "data": {
      "text/html": [
       "<div>\n",
       "<style scoped>\n",
       "    .dataframe tbody tr th:only-of-type {\n",
       "        vertical-align: middle;\n",
       "    }\n",
       "\n",
       "    .dataframe tbody tr th {\n",
       "        vertical-align: top;\n",
       "    }\n",
       "\n",
       "    .dataframe thead th {\n",
       "        text-align: right;\n",
       "    }\n",
       "</style>\n",
       "<table border=\"1\" class=\"dataframe\">\n",
       "  <thead>\n",
       "    <tr style=\"text-align: right;\">\n",
       "      <th></th>\n",
       "      <th>x</th>\n",
       "      <th>y</th>\n",
       "      <th>genes</th>\n",
       "      <th>instance_id</th>\n",
       "    </tr>\n",
       "  </thead>\n",
       "  <tbody>\n",
       "    <tr>\n",
       "      <th>0</th>\n",
       "      <td>46</td>\n",
       "      <td>395</td>\n",
       "      <td>gene_b</td>\n",
       "      <td>9</td>\n",
       "    </tr>\n",
       "    <tr>\n",
       "      <th>1</th>\n",
       "      <td>334</td>\n",
       "      <td>224</td>\n",
       "      <td>gene_b</td>\n",
       "      <td>7</td>\n",
       "    </tr>\n",
       "    <tr>\n",
       "      <th>2</th>\n",
       "      <td>221</td>\n",
       "      <td>438</td>\n",
       "      <td>gene_b</td>\n",
       "      <td>3</td>\n",
       "    </tr>\n",
       "    <tr>\n",
       "      <th>3</th>\n",
       "      <td>44</td>\n",
       "      <td>356</td>\n",
       "      <td>gene_a</td>\n",
       "      <td>9</td>\n",
       "    </tr>\n",
       "    <tr>\n",
       "      <th>4</th>\n",
       "      <td>103</td>\n",
       "      <td>49</td>\n",
       "      <td>gene_b</td>\n",
       "      <td>4</td>\n",
       "    </tr>\n",
       "    <tr>\n",
       "      <th>...</th>\n",
       "      <td>...</td>\n",
       "      <td>...</td>\n",
       "      <td>...</td>\n",
       "      <td>...</td>\n",
       "    </tr>\n",
       "    <tr>\n",
       "      <th>195</th>\n",
       "      <td>381</td>\n",
       "      <td>92</td>\n",
       "      <td>gene_a</td>\n",
       "      <td>8</td>\n",
       "    </tr>\n",
       "    <tr>\n",
       "      <th>196</th>\n",
       "      <td>188</td>\n",
       "      <td>306</td>\n",
       "      <td>gene_b</td>\n",
       "      <td>5</td>\n",
       "    </tr>\n",
       "    <tr>\n",
       "      <th>197</th>\n",
       "      <td>368</td>\n",
       "      <td>447</td>\n",
       "      <td>gene_a</td>\n",
       "      <td>7</td>\n",
       "    </tr>\n",
       "    <tr>\n",
       "      <th>198</th>\n",
       "      <td>23</td>\n",
       "      <td>101</td>\n",
       "      <td>gene_a</td>\n",
       "      <td>6</td>\n",
       "    </tr>\n",
       "    <tr>\n",
       "      <th>199</th>\n",
       "      <td>144</td>\n",
       "      <td>159</td>\n",
       "      <td>gene_a</td>\n",
       "      <td>6</td>\n",
       "    </tr>\n",
       "  </tbody>\n",
       "</table>\n",
       "<p>200 rows × 4 columns</p>\n",
       "</div>"
      ],
      "text/plain": [
       "       x    y   genes  instance_id\n",
       "0     46  395  gene_b            9\n",
       "1    334  224  gene_b            7\n",
       "2    221  438  gene_b            3\n",
       "3     44  356  gene_a            9\n",
       "4    103   49  gene_b            4\n",
       "..   ...  ...     ...          ...\n",
       "195  381   92  gene_a            8\n",
       "196  188  306  gene_b            5\n",
       "197  368  447  gene_a            7\n",
       "198   23  101  gene_a            6\n",
       "199  144  159  gene_a            6\n",
       "\n",
       "[200 rows x 4 columns]"
      ]
     },
     "execution_count": 12,
     "metadata": {},
     "output_type": "execute_result"
    }
   ],
   "source": [
    "sdata[\"blobs_points\"].compute()"
   ]
  }
 ],
 "metadata": {
  "kernelspec": {
   "display_name": "Python 3",
   "language": "python",
   "name": "python3"
  },
  "language_info": {
   "codemirror_mode": {
    "name": "ipython",
    "version": 3
   },
   "file_extension": ".py",
   "mimetype": "text/x-python",
   "name": "python",
   "nbconvert_exporter": "python",
   "pygments_lexer": "ipython3",
   "version": "3.12.6"
  }
 },
 "nbformat": 4,
 "nbformat_minor": 2
}
